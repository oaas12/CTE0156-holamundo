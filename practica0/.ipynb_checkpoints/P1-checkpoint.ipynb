{
 "cells": [
  {
   "cell_type": "code",
   "execution_count": 6,
   "metadata": {},
   "outputs": [
    {
     "name": "stdout",
     "output_type": "stream",
     "text": [
      "{'Trabajo': ['Datos de la empresa,Sistema,Cuentas'], 'Limpieza': ['Dormitorio,Estudio'], 'Cocina': ['Desayuno,Almuerzo,Cena']}\n"
     ]
    }
   ],
   "source": [
    "#Ejercicio 1\n",
    "\n",
    "Lunes={\n",
    "           \"Trabajo\":[\"Datos de la empresa,Sistema,Cuentas\"],\n",
    "           \"Limpieza\" :[\"Dormitorio,Estudio\"],\n",
    "           \"Cocina\":[\"Desayuno,Almuerzo,Cena\"]}\n",
    "print (Lunes)\n",
    "    "
   ]
  },
  {
   "cell_type": "code",
   "execution_count": 7,
   "metadata": {},
   "outputs": [
    {
     "name": "stdout",
     "output_type": "stream",
     "text": [
      "\n",
      "Actividad: Trabajo\n",
      "Tareas:  ['Datos de la empresa,Sistema,Cuentas']\n",
      "\n",
      "Actividad: Limpieza\n",
      "Tareas:  ['Dormitorio,Estudio']\n",
      "\n",
      "Actividad: Cocina\n",
      "Tareas:  ['Desayuno,Almuerzo,Cena']\n"
     ]
    }
   ],
   "source": [
    "#Ejercicio 2\n",
    "Lunes={\n",
    "           \"Trabajo\":[\"Datos de la empresa,Sistema,Cuentas\"],\n",
    "           \"Limpieza\" :[\"Dormitorio,Estudio\"],\n",
    "           \"Cocina\":[\"Desayuno,Almuerzo,Cena\"]}\n",
    "for c in Lunes.keys():\n",
    "    print (\"\\nActividad: \"+ c)\n",
    "    print (\"Tareas: \",Lunes [c])"
   ]
  },
  {
   "cell_type": "code",
   "execution_count": null,
   "metadata": {},
   "outputs": [],
   "source": []
  }
 ],
 "metadata": {
  "kernelspec": {
   "display_name": "Python 3",
   "language": "python",
   "name": "python3"
  },
  "language_info": {
   "codemirror_mode": {
    "name": "ipython",
    "version": 3
   },
   "file_extension": ".py",
   "mimetype": "text/x-python",
   "name": "python",
   "nbconvert_exporter": "python",
   "pygments_lexer": "ipython3",
   "version": "3.7.6"
  }
 },
 "nbformat": 4,
 "nbformat_minor": 4
}
